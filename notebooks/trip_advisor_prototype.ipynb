{
 "cells": [
  {
   "cell_type": "code",
   "execution_count": 14,
   "id": "068dd01c-0597-4216-a516-e82550d39406",
   "metadata": {},
   "outputs": [
    {
     "name": "stdout",
     "output_type": "stream",
     "text": [
      "{'/Users/Bo/Documents/LLM/smart_travel_advise/.venv/bin/python'}\n"
     ]
    }
   ],
   "source": [
    "import sys\n",
    "import os\n",
    "# initialize to make sure project root is in the path\n",
    "current_dir = os.getcwd()\n",
    "parent_dir = os.path.abspath(os.path.join(current_dir, '..'))\n",
    "sys.path.append(parent_dir)\n",
    "print({sys.executable} )"
   ]
  },
  {
   "cell_type": "code",
   "execution_count": 5,
   "id": "ec64ab4e",
   "metadata": {},
   "outputs": [],
   "source": [
    "from pydantic import BaseModel, Field\n",
    "from langchain.prompts import ChatPromptTemplate, PromptTemplate\n",
    "from langchain.tools import tool\n",
    "from langchain.agents.output_parsers import OpenAIFunctionsAgentOutputParser\n",
    "from langchain_core.output_parsers import StrOutputParser\n",
    "from langchain_core.utils.function_calling import convert_to_openai_function\n",
    "from langchain_community.document_loaders import WebBaseLoader\n",
    "from langchain_community.document_transformers import Html2TextTransformer, BeautifulSoupTransformer\n",
    "from langchain_openai.chat_models import ChatOpenAI\n",
    "from adviser.config import OPENAI_API_KEY\n"
   ]
  },
  {
   "cell_type": "code",
   "execution_count": 4,
   "id": "530b0475-4942-41db-bbb0-d5367b3ab7d9",
   "metadata": {},
   "outputs": [
    {
     "name": "stderr",
     "output_type": "stream",
     "text": [
      "/Users/Bo/Documents/LLM/smart_travel_advise/.venv/lib/python3.11/site-packages/langchain_core/_api/deprecation.py:139: LangChainDeprecationWarning: The function `format_tool_to_openai_function` was deprecated in LangChain 0.1.16 and will be removed in 0.3.0. Use langchain_core.utils.function_calling.convert_to_openai_function() instead.\n",
      "  warn_deprecated(\n"
     ]
    },
    {
     "data": {
      "text/plain": [
       "{'name': 'advice_whether_safe_to_travel',\n",
       " 'description': 'Check if it is safe to travel to the country of the region',\n",
       " 'parameters': {'properties': {'region': {'description': '\\n    Lower case continent name that the search country resides in.\\n    it should be in one of the following 6 regions:\\n    africa, americas, asia, europe, middle-east, pacific\\n    ',\n",
       "    'type': 'string'},\n",
       "   'country': {'description': \"\\n    Lower case country full name that needs advice of trevel.\\n    if the country name have multiple words, connect the space with `-`.\\n    \\n    Examples: \\n    1. usa -> united-states-america\\n    2. People's Republic of China -> china\\n    \",\n",
       "    'type': 'string'}},\n",
       "  'required': ['region', 'country'],\n",
       "  'type': 'object'}}"
      ]
     },
     "execution_count": 4,
     "metadata": {},
     "output_type": "execute_result"
    }
   ],
   "source": [
    "class AdviceInput(BaseModel):\n",
    "    region: str = Field(description=\"\"\"\n",
    "    Lower case continent name that the search country resides in.\n",
    "    it should be in one of the following 6 regions:\n",
    "    africa, americas, asia, europe, middle-east, pacific\n",
    "    \"\"\")\n",
    "    country: str = Field(description=\"\"\"\n",
    "    Lower case country full name that needs advice of trevel.\n",
    "    if the country name have multiple words, connect the space with `-`.\n",
    "    \n",
    "    Examples: \n",
    "    1. usa -> united-states-america\n",
    "    2. People's Republic of China -> china\n",
    "    \"\"\")\n",
    "    \n",
    "@tool(args_schema=AdviceInput)\n",
    "def advice_whether_safe_to_travel(region:str, country:str) -> str:\n",
    "    \"\"\"Check if it is safe to travel to the country of the region\"\"\"\n",
    "    return \"Exercise normal safety precautions\"\n"
   ]
  },
  {
   "cell_type": "code",
   "execution_count": 6,
   "id": "7d28b178-d0c4-4d2e-bd7b-6290b5078b12",
   "metadata": {},
   "outputs": [],
   "source": [
    "model = ChatOpenAI(temperature=0, model=\"gpt-4o-mini-2024-07-18\").bind(functions=[convert_to_openai_function(advice_whether_safe_to_travel)])"
   ]
  },
  {
   "cell_type": "code",
   "execution_count": 7,
   "id": "92d768a1-b963-4c59-a27a-b357f45d9e34",
   "metadata": {},
   "outputs": [],
   "source": [
    "prompt = ChatPromptTemplate.from_messages([\n",
    "    (\"system\", \"You are a trip advier which informs whether it is safe to travel to certain country\"),\n",
    "    (\"user\", \"{query}\"),\n",
    "])\n",
    "chain = prompt | model | OpenAIFunctionsAgentOutputParser()"
   ]
  },
  {
   "cell_type": "code",
   "execution_count": 8,
   "id": "74507dd1-ae7f-47c4-a832-0d77844d5743",
   "metadata": {},
   "outputs": [],
   "source": [
    "query = \"I would like to travel to bnia-and-herzegovina. Is it safe?\""
   ]
  },
  {
   "cell_type": "code",
   "execution_count": 9,
   "id": "4fa38464-2e9b-4eb0-903f-11c42f4f4de1",
   "metadata": {},
   "outputs": [],
   "source": [
    "result = chain.invoke({\"query\": query})"
   ]
  },
  {
   "cell_type": "code",
   "execution_count": 10,
   "id": "7b9666a3-f9fa-425b-a5e4-a8da17ddd4e7",
   "metadata": {},
   "outputs": [
    {
     "data": {
      "text/plain": [
       "'bosnia-and-herzegovina'"
      ]
     },
     "execution_count": 10,
     "metadata": {},
     "output_type": "execute_result"
    }
   ],
   "source": [
    "result.tool_input['country']"
   ]
  },
  {
   "cell_type": "code",
   "execution_count": 11,
   "id": "ec6ce927-a723-401f-862f-dfae8a99567c",
   "metadata": {},
   "outputs": [
    {
     "data": {
      "text/plain": [
       "'europe'"
      ]
     },
     "execution_count": 11,
     "metadata": {},
     "output_type": "execute_result"
    }
   ],
   "source": [
    "result.tool_input['region']"
   ]
  },
  {
   "cell_type": "code",
   "execution_count": 15,
   "id": "4517d3b2-11e5-4ab2-8c17-0a9643016c5a",
   "metadata": {},
   "outputs": [],
   "source": [
    "url = f\"https://www.smartraveller.gov.au/destinations/{result.tool_input['region']}/{result.tool_input['country']}\"\n",
    "html = WebBaseLoader(url).load()\n",
    "transformer = BeautifulSoupTransformer()\n",
    "docs_transformed = transformer.transform_documents(\n",
    "    html, tags_to_extract=[\"p\", \"li\", \"div\", \"a\"]\n",
    ")"
   ]
  },
  {
   "cell_type": "code",
   "execution_count": 16,
   "id": "c3fd1319-2768-4dd6-a928-7fa92a5f031e",
   "metadata": {},
   "outputs": [
    {
     "data": {
      "text/plain": [
       "Document(metadata={'source': 'https://www.smartraveller.gov.au/destinations/europe/bosnia-and-herzegovina', 'title': 'Bosnia & Herzegovina Travel Advice & Safety | Smartraveller', 'description': 'Australian Government travel advice for Bosnia and Herzegovina. Exercise a high degree of caution. Travel advice level YELLOW. Understand the risks, safety, laws and contacts.', 'language': 'en'}, page_content='')"
      ]
     },
     "execution_count": 16,
     "metadata": {},
     "output_type": "execute_result"
    }
   ],
   "source": [
    "docs_transformed[0]"
   ]
  },
  {
   "cell_type": "code",
   "execution_count": 18,
   "id": "2f4a3c35-7d54-4539-8b80-c4f42df47d86",
   "metadata": {},
   "outputs": [],
   "source": [
    "template = \"\"\" \n",
    "    Given the following inputs:\n",
    "    \n",
    "    {title}: The title of the webpage.\n",
    "    {description}: A brief description of the webpage content.\n",
    "    {query}: The question that the traveller asked about the country he is going to travel to.\n",
    "    ===================================================================================================\n",
    "    \n",
    "    Your task is to assess whether it is safe to travel to the specified country and provide reasons for your assessment.\n",
    "    Your response should include an overall score based on the following levels:\n",
    "    \n",
    "    Do Not Travel: Significant risks that make travel extremely dangerous.\n",
    "    Reconsider Your Need to Travel: High risks that may require reconsideration of travel plans.\n",
    "    Exercise a High Degree of Caution: Some risks that necessitate careful planning and precautions.\n",
    "    Exercise Normal Safety Precautions: General safety precautions similar to those you would take in your home country.\n",
    "    If the {title} returns \"page not found,\" respond with: \"There is no trip advisory based on current information.\"\n",
    "    \n",
    "    Example\n",
    "    Inputs:\n",
    "    \n",
    "    {title}: \"Indonesia Travel Advice & Safety | Smartraveller\"\n",
    "    {description}: \"Australian Government travel advice for Indonesia. Exercise a high degree of caution. Travel advice level YELLOW. Understand the risks, safety, laws and contacts.\"\n",
    "    {query}: \"I would like to travel to Indonesia. Is it safe?\"\n",
    "    Output:\n",
    "    \n",
    "    Travel Safety Level: \"Exercise a high degree of caution\"\n",
    "    Reasons:\n",
    "    Recent political instability.\n",
    "    High crime rates in certain areas.\n",
    "    Ongoing health concerns such as outbreaks of diseases.\n",
    "    \"\"\"\n",
    "prompt_template = PromptTemplate(\n",
    "    input_variables=[\"title\", \"description\", \"query\"],\n",
    "    template=template)\n",
    "\n",
    "prompt_2 = prompt_template.format(\n",
    "    title=docs_transformed[0].metadata['title'],\n",
    "    description=docs_transformed[0].metadata['description'],\n",
    "    query=query\n",
    ")"
   ]
  },
  {
   "cell_type": "code",
   "execution_count": 19,
   "id": "5dce32c5-8bf9-4242-8389-60e37b32b710",
   "metadata": {},
   "outputs": [],
   "source": [
    "model_2 =  ChatOpenAI(temperature=0, model=\"gpt-4o-mini-2024-07-18\")"
   ]
  },
  {
   "cell_type": "code",
   "execution_count": 20,
   "id": "29b5f31f-8f08-4793-95c3-2525abe6b56f",
   "metadata": {},
   "outputs": [],
   "source": [
    "output_parser = StrOutputParser()"
   ]
  },
  {
   "cell_type": "code",
   "execution_count": 21,
   "id": "cb810688-3c84-4f0b-8782-9b47fffb275a",
   "metadata": {},
   "outputs": [],
   "source": [
    "answer = model_2.invoke(prompt_2)"
   ]
  },
  {
   "cell_type": "code",
   "execution_count": 25,
   "id": "cfa0d525-6aaa-40e7-9f0a-0868ffdf0f4c",
   "metadata": {},
   "outputs": [
    {
     "name": "stdout",
     "output_type": "stream",
     "text": [
      "Travel Safety Level: \"Exercise a high degree of caution\"  \n",
      "Reasons:  \n",
      "- The Australian Government advises exercising a high degree of caution when traveling to Bosnia and Herzegovina, indicating that there are some risks involved.  \n",
      "- There may be political and social tensions in certain areas that could affect safety.  \n",
      "- Travelers should be aware of local laws and customs, as well as potential health risks.  \n",
      "- It is important to stay informed about the current situation and to take necessary precautions while traveling.\n"
     ]
    }
   ],
   "source": [
    "print(output_parser.parse(answer).content)"
   ]
  },
  {
   "cell_type": "code",
   "execution_count": null,
   "id": "8747edc3",
   "metadata": {},
   "outputs": [],
   "source": []
  }
 ],
 "metadata": {
  "kernelspec": {
   "display_name": ".venv",
   "language": "python",
   "name": "python3"
  },
  "language_info": {
   "codemirror_mode": {
    "name": "ipython",
    "version": 3
   },
   "file_extension": ".py",
   "mimetype": "text/x-python",
   "name": "python",
   "nbconvert_exporter": "python",
   "pygments_lexer": "ipython3",
   "version": "3.11.9"
  }
 },
 "nbformat": 4,
 "nbformat_minor": 5
}
