{
 "cells": [
  {
   "cell_type": "code",
   "execution_count": 1,
   "id": "068dd01c-0597-4216-a516-e82550d39406",
   "metadata": {},
   "outputs": [],
   "source": [
    "import sys\n",
    "import os\n",
    "# initialize to make sure project root is in the path\n",
    "current_dir = os.getcwd()\n",
    "parent_dir = os.path.abspath(os.path.join(current_dir, '..'))\n",
    "sys.path.append(parent_dir)"
   ]
  },
  {
   "cell_type": "code",
   "execution_count": 5,
   "id": "ec64ab4e",
   "metadata": {},
   "outputs": [],
   "source": [
    "from langchain_openai import ChatOpenAI\n",
    "from langchain_core.runnables import RunnableParallel, RunnablePassthrough\n",
    "from langchain_core.output_parsers import StrOutputParser\n",
    "from adviser.adviser_support_info_retriver import (\n",
    "    construct_query2url_chain\n",
    "    )    "
   ]
  },
  {
   "cell_type": "code",
   "execution_count": 6,
   "id": "15b482aa",
   "metadata": {},
   "outputs": [],
   "source": [
    "query = 'I would like to travel to Papua. Is it safe??'\n"
   ]
  },
  {
   "cell_type": "code",
   "execution_count": 7,
   "id": "530b0475-4942-41db-bbb0-d5367b3ab7d9",
   "metadata": {},
   "outputs": [],
   "source": [
    "chat_model = ChatOpenAI(temperature=0, model=\"gpt-4o-mini-2024-07-18\")"
   ]
  },
  {
   "cell_type": "code",
   "execution_count": 10,
   "id": "61f46ebd",
   "metadata": {},
   "outputs": [],
   "source": [
    "chain_url = construct_query2url_chain(chat_model=chat_model)                                       "
   ]
  },
  {
   "cell_type": "code",
   "execution_count": 11,
   "id": "2a2b359f",
   "metadata": {},
   "outputs": [
    {
     "data": {
      "text/plain": [
       "'https://www.smartraveller.gov.au/destinations/asia/indonesia'"
      ]
     },
     "execution_count": 11,
     "metadata": {},
     "output_type": "execute_result"
    }
   ],
   "source": [
    "chain_url.invoke({'query': query})"
   ]
  },
  {
   "cell_type": "code",
   "execution_count": 14,
   "id": "2e11b03d",
   "metadata": {},
   "outputs": [],
   "source": [
    "chain =  (RunnableParallel({\"doc\": chain_url | construct_chain_for_advice_doc_from_url(),\n",
    "                               \"query\": RunnablePassthrough()})\n",
    "                              | create_prompt_for_travel_advice_response\n",
    "                              | chat_model\n",
    "                              | StrOutputParser())"
   ]
  },
  {
   "cell_type": "code",
   "execution_count": 22,
   "id": "e0fc18a7",
   "metadata": {},
   "outputs": [
    {
     "name": "stdout",
     "output_type": "stream",
     "text": [
      "Travel Safety Level: \n",
      "    \"Exercise a high degree of caution\" in China overall.\n",
      "Reasons:\n",
      "    - Authorities have detained foreigners on the grounds of 'endangering national security'.\n",
      "    - Australians may be at risk of arbitrary detention or harsh enforcement of local laws, including broadly defined National Security Laws.\n",
      "    - The security situation in regions like Tibet and Xinjiang necessitates careful planning and precautions. \n",
      "\n",
      "Since no specific advice level for Guangzhou is provided, the overall advice for China applies.\n"
     ]
    }
   ],
   "source": [
    "query = 'I would like to travel to guangzhou. Is it safe??'\n",
    "print(chain.invoke({'query': query}))"
   ]
  },
  {
   "cell_type": "code",
   "execution_count": 18,
   "id": "596cd286",
   "metadata": {},
   "outputs": [
    {
     "name": "stdout",
     "output_type": "stream",
     "text": [
      "Travel Safety Level: \n",
      "\"Exercise a high degree of caution\" in Indonesia overall.\n",
      "\"Reconsider Your Need to Travel\" in Papua.\n",
      "\n",
      "Reasons:\n",
      "- Ongoing security risks in Indonesia necessitate careful planning and precautions.\n",
      "- There is a risk of serious security incidents or demonstrations that may turn violent in Papua.\n"
     ]
    }
   ],
   "source": [
    "query = 'I would like to travel to papua. Is it safe??'\n",
    "print(chain.invoke({'query': query}))"
   ]
  }
 ],
 "metadata": {
  "kernelspec": {
   "display_name": ".venv",
   "language": "python",
   "name": "python3"
  },
  "language_info": {
   "codemirror_mode": {
    "name": "ipython",
    "version": 3
   },
   "file_extension": ".py",
   "mimetype": "text/x-python",
   "name": "python",
   "nbconvert_exporter": "python",
   "pygments_lexer": "ipython3",
   "version": "3.11.9"
  }
 },
 "nbformat": 4,
 "nbformat_minor": 5
}
